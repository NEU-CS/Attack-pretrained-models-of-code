{
 "cells": [
  {
   "cell_type": "code",
   "execution_count": 14,
   "metadata": {},
   "outputs": [],
   "source": [
    "import re\n",
    "def get_program_stmt_nums(self,code:str):\n",
    "    \n",
    "    return code.split(\"\\n\")"
   ]
  },
  {
   "cell_type": "code",
   "execution_count": 15,
   "metadata": {},
   "outputs": [],
   "source": [
    "st = \"\"\"\n",
    "def get_importance_score(words_list: list,variable_names: list, classifier,orig_prob):\n",
    "    '''Compute the importance score of each variable'''\n",
    "    # 1. 过滤掉所有的keywords.\n",
    "    \n",
    "    positions = get_identifier_posistions_from_code(words_list, variable_names)\n",
    "    \n",
    "    # 需要注意大小写.\n",
    "    if len(positions) == 0:\n",
    "        ## 没有提取出可以mutate的position\n",
    "        return None, None, None\n",
    "\n",
    "    new_example = {}\n",
    "\n",
    "    # 2. 得到Masked_tokens\n",
    "    masked_token_list, replace_token_positions = get_masked_code_by_position(words_list, positions)\n",
    "    # replace_token_positions 表示着，哪一个位置的token被替换了.\n",
    "\n",
    "\n",
    "    for variable, masked_one_variable in masked_token_list.items():\n",
    "        new_code = ' '.join(masked_one_variable)\n",
    "        new_example[variable] = new_code\n",
    "\n",
    "    \n",
    "    results = {}\n",
    "    for variable,code_masked in new_example.items():\n",
    "        results[variable] = classifier.predict(code_masked)[0]['score']\n",
    "\n",
    "    #orig_prob = results[0]['score'] #这个为什么不直接参数传进来，非要重新计算一次\n",
    "\n",
    "    importance_score = {}\n",
    "\n",
    "    for variable,prob in results.items():\n",
    "        importance_score[variable] = orig_prob - prob\n",
    "    return importance_score, replace_token_positions, positions\n",
    "    print(\"%s SUC! %s => %s (%.5f => %.5f)\" % \\\n",
    "                            ('>>', tgt_word, candidate,\n",
    "                            current_prob,\n",
    "                            oneresult['score']), flush=True)\n",
    "\n",
    "\"\"\""
   ]
  },
  {
   "cell_type": "code",
   "execution_count": 16,
   "metadata": {},
   "outputs": [
    {
     "name": "stdout",
     "output_type": "stream",
     "text": [
      "39\n"
     ]
    },
    {
     "data": {
      "text/plain": [
       "40"
      ]
     },
     "execution_count": 16,
     "metadata": {},
     "output_type": "execute_result"
    }
   ],
   "source": [
    "len(get_program_stmt_nums(\"\",st))"
   ]
  },
  {
   "cell_type": "code",
   "execution_count": null,
   "metadata": {},
   "outputs": [],
   "source": []
  }
 ],
 "metadata": {
  "kernelspec": {
   "display_name": "adv",
   "language": "python",
   "name": "python3"
  },
  "language_info": {
   "codemirror_mode": {
    "name": "ipython",
    "version": 3
   },
   "file_extension": ".py",
   "mimetype": "text/x-python",
   "name": "python",
   "nbconvert_exporter": "python",
   "pygments_lexer": "ipython3",
   "version": "3.9.18"
  }
 },
 "nbformat": 4,
 "nbformat_minor": 2
}
